{
 "cells": [
  {
   "cell_type": "markdown",
   "metadata": {},
   "source": [
    "# Twitter\n",
    "\n",
    "---\n",
    "\n",
    "Group name: Group G\n",
    "\n",
    "---\n"
   ]
  },
  {
   "cell_type": "markdown",
   "metadata": {},
   "source": []
  },
  {
   "cell_type": "code",
   "execution_count": 1,
   "metadata": {},
   "outputs": [],
   "source": [
    "import tweepy"
   ]
  },
  {
   "cell_type": "code",
   "execution_count": 2,
   "metadata": {},
   "outputs": [],
   "source": [
    "from keys import *"
   ]
  },
  {
   "cell_type": "code",
   "execution_count": 3,
   "metadata": {},
   "outputs": [],
   "source": [
    "import requests\n",
    "\n",
    "client = tweepy.Client( bearer_token=bearer_token, \n",
    "                        consumer_key=consumer_key, \n",
    "                        consumer_secret=consumer_secret, \n",
    "                        access_token=access_token, \n",
    "                        access_token_secret=access_token_secret, \n",
    "                        return_type = requests.Response,\n",
    "                        wait_on_rate_limit=True)"
   ]
  },
  {
   "cell_type": "code",
   "execution_count": 4,
   "metadata": {},
   "outputs": [],
   "source": [
    "my_query = 'from:WIRED -is:retweet'"
   ]
  },
  {
   "cell_type": "code",
   "execution_count": 5,
   "metadata": {},
   "outputs": [],
   "source": [
    "tweets = client.search_recent_tweets(query=my_query, \n",
    "                                    tweet_fields=['author_id', 'created_at'],\n",
    "                                     max_results=100)"
   ]
  },
  {
   "cell_type": "code",
   "execution_count": 6,
   "metadata": {},
   "outputs": [],
   "source": [
    "import pandas as pd"
   ]
  },
  {
   "cell_type": "code",
   "execution_count": 7,
   "metadata": {},
   "outputs": [],
   "source": [
    "tweets_dict = tweets.json() \n",
    "\n",
    "tweets_data = tweets_dict['data'] \n",
    "\n",
    "df = pd.json_normalize(tweets_data) "
   ]
  },
  {
   "cell_type": "code",
   "execution_count": 8,
   "metadata": {},
   "outputs": [
    {
     "data": {
      "text/html": [
       "<div>\n",
       "<style scoped>\n",
       "    .dataframe tbody tr th:only-of-type {\n",
       "        vertical-align: middle;\n",
       "    }\n",
       "\n",
       "    .dataframe tbody tr th {\n",
       "        vertical-align: top;\n",
       "    }\n",
       "\n",
       "    .dataframe thead th {\n",
       "        text-align: right;\n",
       "    }\n",
       "</style>\n",
       "<table border=\"1\" class=\"dataframe\">\n",
       "  <thead>\n",
       "    <tr style=\"text-align: right;\">\n",
       "      <th></th>\n",
       "      <th>text</th>\n",
       "      <th>created_at</th>\n",
       "      <th>author_id</th>\n",
       "      <th>id</th>\n",
       "      <th>edit_history_tweet_ids</th>\n",
       "    </tr>\n",
       "  </thead>\n",
       "  <tbody>\n",
       "    <tr>\n",
       "      <th>0</th>\n",
       "      <td>Whether the first six months of 2022 have felt...</td>\n",
       "      <td>2022-11-24T07:34:23.000Z</td>\n",
       "      <td>1344951</td>\n",
       "      <td>1595682225202274305</td>\n",
       "      <td>[1595682225202274305]</td>\n",
       "    </tr>\n",
       "    <tr>\n",
       "      <th>1</th>\n",
       "      <td>Company executives have repeatedly claimed tha...</td>\n",
       "      <td>2022-11-24T06:33:20.000Z</td>\n",
       "      <td>1344951</td>\n",
       "      <td>1595666862175621121</td>\n",
       "      <td>[1595666862175621121]</td>\n",
       "    </tr>\n",
       "    <tr>\n",
       "      <th>2</th>\n",
       "      <td>For All Mankind' does what the best science fi...</td>\n",
       "      <td>2022-11-24T05:33:37.000Z</td>\n",
       "      <td>1344951</td>\n",
       "      <td>1595651833049276417</td>\n",
       "      <td>[1595651833049276417]</td>\n",
       "    </tr>\n",
       "    <tr>\n",
       "      <th>3</th>\n",
       "      <td>“I wouldn’t quite call it spyware. It’s more l...</td>\n",
       "      <td>2022-11-24T04:32:22.000Z</td>\n",
       "      <td>1344951</td>\n",
       "      <td>1595636420961599489</td>\n",
       "      <td>[1595636420961599489]</td>\n",
       "    </tr>\n",
       "    <tr>\n",
       "      <th>4</th>\n",
       "      <td>#BlackFriday is almost here, so when it comes ...</td>\n",
       "      <td>2022-11-24T03:31:05.000Z</td>\n",
       "      <td>1344951</td>\n",
       "      <td>1595620998333988864</td>\n",
       "      <td>[1595620998333988864]</td>\n",
       "    </tr>\n",
       "    <tr>\n",
       "      <th>...</th>\n",
       "      <td>...</td>\n",
       "      <td>...</td>\n",
       "      <td>...</td>\n",
       "      <td>...</td>\n",
       "      <td>...</td>\n",
       "    </tr>\n",
       "    <tr>\n",
       "      <th>95</th>\n",
       "      <td>Here’s an odd climate contradiction. If we bur...</td>\n",
       "      <td>2022-11-22T11:04:02.000Z</td>\n",
       "      <td>1344951</td>\n",
       "      <td>1595010210682220544</td>\n",
       "      <td>[1595010210682220544]</td>\n",
       "    </tr>\n",
       "    <tr>\n",
       "      <th>96</th>\n",
       "      <td>As more people begin to ponder and experiment ...</td>\n",
       "      <td>2022-11-22T10:35:06.000Z</td>\n",
       "      <td>1344951</td>\n",
       "      <td>1595002929320108032</td>\n",
       "      <td>[1595002929320108032]</td>\n",
       "    </tr>\n",
       "    <tr>\n",
       "      <th>97</th>\n",
       "      <td>When it comes to issues like climate change, t...</td>\n",
       "      <td>2022-11-22T10:04:03.000Z</td>\n",
       "      <td>1344951</td>\n",
       "      <td>1594995115248046081</td>\n",
       "      <td>[1594995115248046081]</td>\n",
       "    </tr>\n",
       "    <tr>\n",
       "      <th>98</th>\n",
       "      <td>Let's face it, teenagers are straight-up intim...</td>\n",
       "      <td>2022-11-22T09:00:24.000Z</td>\n",
       "      <td>1344951</td>\n",
       "      <td>1594979094781124608</td>\n",
       "      <td>[1594979094781124608]</td>\n",
       "    </tr>\n",
       "    <tr>\n",
       "      <th>99</th>\n",
       "      <td>Skip the Black Friday chaos and get in on thes...</td>\n",
       "      <td>2022-11-22T08:30:16.000Z</td>\n",
       "      <td>1344951</td>\n",
       "      <td>1594971513035411456</td>\n",
       "      <td>[1594971513035411456]</td>\n",
       "    </tr>\n",
       "  </tbody>\n",
       "</table>\n",
       "<p>100 rows × 5 columns</p>\n",
       "</div>"
      ],
      "text/plain": [
       "                                                 text  \\\n",
       "0   Whether the first six months of 2022 have felt...   \n",
       "1   Company executives have repeatedly claimed tha...   \n",
       "2   For All Mankind' does what the best science fi...   \n",
       "3   “I wouldn’t quite call it spyware. It’s more l...   \n",
       "4   #BlackFriday is almost here, so when it comes ...   \n",
       "..                                                ...   \n",
       "95  Here’s an odd climate contradiction. If we bur...   \n",
       "96  As more people begin to ponder and experiment ...   \n",
       "97  When it comes to issues like climate change, t...   \n",
       "98  Let's face it, teenagers are straight-up intim...   \n",
       "99  Skip the Black Friday chaos and get in on thes...   \n",
       "\n",
       "                  created_at author_id                   id  \\\n",
       "0   2022-11-24T07:34:23.000Z   1344951  1595682225202274305   \n",
       "1   2022-11-24T06:33:20.000Z   1344951  1595666862175621121   \n",
       "2   2022-11-24T05:33:37.000Z   1344951  1595651833049276417   \n",
       "3   2022-11-24T04:32:22.000Z   1344951  1595636420961599489   \n",
       "4   2022-11-24T03:31:05.000Z   1344951  1595620998333988864   \n",
       "..                       ...       ...                  ...   \n",
       "95  2022-11-22T11:04:02.000Z   1344951  1595010210682220544   \n",
       "96  2022-11-22T10:35:06.000Z   1344951  1595002929320108032   \n",
       "97  2022-11-22T10:04:03.000Z   1344951  1594995115248046081   \n",
       "98  2022-11-22T09:00:24.000Z   1344951  1594979094781124608   \n",
       "99  2022-11-22T08:30:16.000Z   1344951  1594971513035411456   \n",
       "\n",
       "   edit_history_tweet_ids  \n",
       "0   [1595682225202274305]  \n",
       "1   [1595666862175621121]  \n",
       "2   [1595651833049276417]  \n",
       "3   [1595636420961599489]  \n",
       "4   [1595620998333988864]  \n",
       "..                    ...  \n",
       "95  [1595010210682220544]  \n",
       "96  [1595002929320108032]  \n",
       "97  [1594995115248046081]  \n",
       "98  [1594979094781124608]  \n",
       "99  [1594971513035411456]  \n",
       "\n",
       "[100 rows x 5 columns]"
      ]
     },
     "execution_count": 8,
     "metadata": {},
     "output_type": "execute_result"
    }
   ],
   "source": [
    "df"
   ]
  },
  {
   "cell_type": "code",
   "execution_count": 9,
   "metadata": {},
   "outputs": [],
   "source": [
    "df.to_csv(\"twitter.csv\")"
   ]
  }
 ],
 "metadata": {
  "kernelspec": {
   "display_name": "Python 3.9.13 ('twitter')",
   "language": "python",
   "name": "python3"
  },
  "language_info": {
   "codemirror_mode": {
    "name": "ipython",
    "version": 3
   },
   "file_extension": ".py",
   "mimetype": "text/x-python",
   "name": "python",
   "nbconvert_exporter": "python",
   "pygments_lexer": "ipython3",
   "version": "3.9.13"
  },
  "orig_nbformat": 4,
  "vscode": {
   "interpreter": {
    "hash": "b70013437af88f696eba5f2a08b676450dbd4ee9892660210ab5182cd6ea90d1"
   }
  }
 },
 "nbformat": 4,
 "nbformat_minor": 2
}
