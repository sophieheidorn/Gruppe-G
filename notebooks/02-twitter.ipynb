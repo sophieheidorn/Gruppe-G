{
 "cells": [
  {
   "cell_type": "markdown",
   "metadata": {},
   "source": [
    "# Twitter\n",
    "\n",
    "---\n",
    "\n",
    "Group name: Group G\n",
    "\n",
    "---\n"
   ]
  },
  {
   "cell_type": "markdown",
   "metadata": {},
   "source": []
  },
  {
   "cell_type": "code",
   "execution_count": 2,
   "metadata": {},
   "outputs": [],
   "source": [
    "import tweepy"
   ]
  },
  {
   "cell_type": "code",
   "execution_count": 3,
   "metadata": {},
   "outputs": [],
   "source": [
    "from keys import *"
   ]
  },
  {
   "cell_type": "code",
   "execution_count": 4,
   "metadata": {},
   "outputs": [],
   "source": [
    "import requests\n",
    "\n",
    "client = tweepy.Client( bearer_token=bearer_token, \n",
    "                        consumer_key=consumer_key, \n",
    "                        consumer_secret=consumer_secret, \n",
    "                        access_token=access_token, \n",
    "                        access_token_secret=access_token_secret, \n",
    "                        return_type = requests.Response,\n",
    "                        wait_on_rate_limit=True)"
   ]
  },
  {
   "cell_type": "code",
   "execution_count": 5,
   "metadata": {},
   "outputs": [],
   "source": [
    "my_query = 'from:WIRED -is:retweet'"
   ]
  },
  {
   "cell_type": "code",
   "execution_count": 6,
   "metadata": {},
   "outputs": [],
   "source": [
    "tweets = client.search_recent_tweets(query=my_query, \n",
    "                                    tweet_fields=['author_id', 'created_at'],\n",
    "                                     max_results=100)"
   ]
  },
  {
   "cell_type": "code",
   "execution_count": 7,
   "metadata": {},
   "outputs": [],
   "source": [
    "import pandas as pd"
   ]
  },
  {
   "cell_type": "code",
   "execution_count": 8,
   "metadata": {},
   "outputs": [],
   "source": [
    "tweets_dict = tweets.json() \n",
    "\n",
    "tweets_data = tweets_dict['data'] \n",
    "\n",
    "df = pd.json_normalize(tweets_data) "
   ]
  },
  {
   "cell_type": "code",
   "execution_count": 9,
   "metadata": {},
   "outputs": [
    {
     "data": {
      "text/html": [
       "<div>\n",
       "<style scoped>\n",
       "    .dataframe tbody tr th:only-of-type {\n",
       "        vertical-align: middle;\n",
       "    }\n",
       "\n",
       "    .dataframe tbody tr th {\n",
       "        vertical-align: top;\n",
       "    }\n",
       "\n",
       "    .dataframe thead th {\n",
       "        text-align: right;\n",
       "    }\n",
       "</style>\n",
       "<table border=\"1\" class=\"dataframe\">\n",
       "  <thead>\n",
       "    <tr style=\"text-align: right;\">\n",
       "      <th></th>\n",
       "      <th>author_id</th>\n",
       "      <th>created_at</th>\n",
       "      <th>text</th>\n",
       "      <th>id</th>\n",
       "      <th>edit_history_tweet_ids</th>\n",
       "    </tr>\n",
       "  </thead>\n",
       "  <tbody>\n",
       "    <tr>\n",
       "      <th>0</th>\n",
       "      <td>1344951</td>\n",
       "      <td>2022-11-30T12:35:06.000Z</td>\n",
       "      <td>Effective Altruism is now driving the research...</td>\n",
       "      <td>1597932229728026625</td>\n",
       "      <td>[1597932229728026625]</td>\n",
       "    </tr>\n",
       "    <tr>\n",
       "      <th>1</th>\n",
       "      <td>1344951</td>\n",
       "      <td>2022-11-30T11:32:04.000Z</td>\n",
       "      <td>At the time, bloghouse felt revolutionary; in ...</td>\n",
       "      <td>1597916367121940481</td>\n",
       "      <td>[1597916367121940481]</td>\n",
       "    </tr>\n",
       "    <tr>\n",
       "      <th>2</th>\n",
       "      <td>1344951</td>\n",
       "      <td>2022-11-30T10:00:51.000Z</td>\n",
       "      <td>For the first time in history, humans can conj...</td>\n",
       "      <td>1597893410739949569</td>\n",
       "      <td>[1597893410739949569]</td>\n",
       "    </tr>\n",
       "    <tr>\n",
       "      <th>3</th>\n",
       "      <td>1344951</td>\n",
       "      <td>2022-11-30T08:44:02.000Z</td>\n",
       "      <td>Get exclusive commentary and behind-the-scenes...</td>\n",
       "      <td>1597874082149814274</td>\n",
       "      <td>[1597874082149814274]</td>\n",
       "    </tr>\n",
       "    <tr>\n",
       "      <th>4</th>\n",
       "      <td>1344951</td>\n",
       "      <td>2022-11-30T07:38:29.000Z</td>\n",
       "      <td>Modern soundbars come in all shapes, sizes, an...</td>\n",
       "      <td>1597857586132426753</td>\n",
       "      <td>[1597857586132426753]</td>\n",
       "    </tr>\n",
       "    <tr>\n",
       "      <th>...</th>\n",
       "      <td>...</td>\n",
       "      <td>...</td>\n",
       "      <td>...</td>\n",
       "      <td>...</td>\n",
       "      <td>...</td>\n",
       "    </tr>\n",
       "    <tr>\n",
       "      <th>95</th>\n",
       "      <td>1344951</td>\n",
       "      <td>2022-11-28T15:02:03.000Z</td>\n",
       "      <td>UPDATE: Happy #CyberMonday we've hunted down d...</td>\n",
       "      <td>1597244437314379777</td>\n",
       "      <td>[1597244437314379777]</td>\n",
       "    </tr>\n",
       "    <tr>\n",
       "      <th>96</th>\n",
       "      <td>1344951</td>\n",
       "      <td>2022-11-28T14:30:16.000Z</td>\n",
       "      <td>Don't miss out! Save 50% on a WIRED subscripti...</td>\n",
       "      <td>1597236435878219781</td>\n",
       "      <td>[1597236435878219781]</td>\n",
       "    </tr>\n",
       "    <tr>\n",
       "      <th>97</th>\n",
       "      <td>1344951</td>\n",
       "      <td>2022-11-28T13:59:04.000Z</td>\n",
       "      <td>UPDATE: Here are WIRED's top picks for the bes...</td>\n",
       "      <td>1597228585261338624</td>\n",
       "      <td>[1597228585261338624]</td>\n",
       "    </tr>\n",
       "    <tr>\n",
       "      <th>98</th>\n",
       "      <td>1344951</td>\n",
       "      <td>2022-11-28T13:33:04.000Z</td>\n",
       "      <td>Thanks to the internet, sex education is enjoy...</td>\n",
       "      <td>1597222041169833986</td>\n",
       "      <td>[1597222041169833986]</td>\n",
       "    </tr>\n",
       "    <tr>\n",
       "      <th>99</th>\n",
       "      <td>1344951</td>\n",
       "      <td>2022-11-28T13:03:06.000Z</td>\n",
       "      <td>UPDATE: For all of our budget-friendly holiday...</td>\n",
       "      <td>1597214501153243136</td>\n",
       "      <td>[1597214501153243136]</td>\n",
       "    </tr>\n",
       "  </tbody>\n",
       "</table>\n",
       "<p>100 rows × 5 columns</p>\n",
       "</div>"
      ],
      "text/plain": [
       "   author_id                created_at  \\\n",
       "0    1344951  2022-11-30T12:35:06.000Z   \n",
       "1    1344951  2022-11-30T11:32:04.000Z   \n",
       "2    1344951  2022-11-30T10:00:51.000Z   \n",
       "3    1344951  2022-11-30T08:44:02.000Z   \n",
       "4    1344951  2022-11-30T07:38:29.000Z   \n",
       "..       ...                       ...   \n",
       "95   1344951  2022-11-28T15:02:03.000Z   \n",
       "96   1344951  2022-11-28T14:30:16.000Z   \n",
       "97   1344951  2022-11-28T13:59:04.000Z   \n",
       "98   1344951  2022-11-28T13:33:04.000Z   \n",
       "99   1344951  2022-11-28T13:03:06.000Z   \n",
       "\n",
       "                                                 text                   id  \\\n",
       "0   Effective Altruism is now driving the research...  1597932229728026625   \n",
       "1   At the time, bloghouse felt revolutionary; in ...  1597916367121940481   \n",
       "2   For the first time in history, humans can conj...  1597893410739949569   \n",
       "3   Get exclusive commentary and behind-the-scenes...  1597874082149814274   \n",
       "4   Modern soundbars come in all shapes, sizes, an...  1597857586132426753   \n",
       "..                                                ...                  ...   \n",
       "95  UPDATE: Happy #CyberMonday we've hunted down d...  1597244437314379777   \n",
       "96  Don't miss out! Save 50% on a WIRED subscripti...  1597236435878219781   \n",
       "97  UPDATE: Here are WIRED's top picks for the bes...  1597228585261338624   \n",
       "98  Thanks to the internet, sex education is enjoy...  1597222041169833986   \n",
       "99  UPDATE: For all of our budget-friendly holiday...  1597214501153243136   \n",
       "\n",
       "   edit_history_tweet_ids  \n",
       "0   [1597932229728026625]  \n",
       "1   [1597916367121940481]  \n",
       "2   [1597893410739949569]  \n",
       "3   [1597874082149814274]  \n",
       "4   [1597857586132426753]  \n",
       "..                    ...  \n",
       "95  [1597244437314379777]  \n",
       "96  [1597236435878219781]  \n",
       "97  [1597228585261338624]  \n",
       "98  [1597222041169833986]  \n",
       "99  [1597214501153243136]  \n",
       "\n",
       "[100 rows x 5 columns]"
      ]
     },
     "execution_count": 9,
     "metadata": {},
     "output_type": "execute_result"
    }
   ],
   "source": [
    "df"
   ]
  },
  {
   "cell_type": "code",
   "execution_count": 10,
   "metadata": {},
   "outputs": [],
   "source": [
    "df.to_csv(\"twitter.csv\")"
   ]
  }
 ],
 "metadata": {
  "kernelspec": {
   "display_name": "Python 3.9.13 ('webscraping')",
   "language": "python",
   "name": "python3"
  },
  "language_info": {
   "codemirror_mode": {
    "name": "ipython",
    "version": 3
   },
   "file_extension": ".py",
   "mimetype": "text/x-python",
   "name": "python",
   "nbconvert_exporter": "python",
   "pygments_lexer": "ipython3",
   "version": "3.9.13"
  },
  "orig_nbformat": 4,
  "vscode": {
   "interpreter": {
    "hash": "5331fe7264c6936e6bf7cd44e6a8db5dd542128243d0e51553d701088f29998e"
   }
  }
 },
 "nbformat": 4,
 "nbformat_minor": 2
}
