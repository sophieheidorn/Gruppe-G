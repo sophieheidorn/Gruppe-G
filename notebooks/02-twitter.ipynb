{
 "cells": [
  {
   "cell_type": "markdown",
   "metadata": {},
   "source": [
    "# Twitter\n",
    "\n",
    "---\n",
    "\n",
    "Group name: Group G\n",
    "\n",
    "---\n"
   ]
  },
  {
   "cell_type": "markdown",
   "metadata": {},
   "source": []
  },
  {
   "cell_type": "code",
   "execution_count": 2,
   "metadata": {},
   "outputs": [],
   "source": [
    "import tweepy"
   ]
  },
  {
   "cell_type": "code",
   "execution_count": 3,
   "metadata": {},
   "outputs": [],
   "source": [
    "from keys import *"
   ]
  },
  {
   "cell_type": "code",
   "execution_count": 4,
   "metadata": {},
   "outputs": [],
   "source": [
    "import requests\n",
    "\n",
    "client = tweepy.Client( bearer_token=bearer_token, \n",
    "                        consumer_key=consumer_key, \n",
    "                        consumer_secret=consumer_secret, \n",
    "                        access_token=access_token, \n",
    "                        access_token_secret=access_token_secret, \n",
    "                        return_type = requests.Response,\n",
    "                        wait_on_rate_limit=True)"
   ]
  },
  {
   "cell_type": "code",
   "execution_count": 5,
   "metadata": {},
   "outputs": [],
   "source": [
    "my_query = 'from:FiveThirtyEight -is:retweet'"
   ]
  },
  {
   "cell_type": "code",
   "execution_count": 6,
   "metadata": {},
   "outputs": [],
   "source": [
    "tweets = client.search_recent_tweets(query=my_query, \n",
    "                                    tweet_fields=['author_id', 'created_at'],\n",
    "                                     max_results=100)"
   ]
  },
  {
   "cell_type": "code",
   "execution_count": 8,
   "metadata": {},
   "outputs": [],
   "source": [
    "import pandas as pd"
   ]
  },
  {
   "cell_type": "code",
   "execution_count": 9,
   "metadata": {},
   "outputs": [],
   "source": [
    "tweets_dict = tweets.json() \n",
    "\n",
    "tweets_data = tweets_dict['data'] \n",
    "\n",
    "df = pd.json_normalize(tweets_data) "
   ]
  },
  {
   "cell_type": "code",
   "execution_count": 10,
   "metadata": {},
   "outputs": [
    {
     "data": {
      "text/html": [
       "<div>\n",
       "<style scoped>\n",
       "    .dataframe tbody tr th:only-of-type {\n",
       "        vertical-align: middle;\n",
       "    }\n",
       "\n",
       "    .dataframe tbody tr th {\n",
       "        vertical-align: top;\n",
       "    }\n",
       "\n",
       "    .dataframe thead th {\n",
       "        text-align: right;\n",
       "    }\n",
       "</style>\n",
       "<table border=\"1\" class=\"dataframe\">\n",
       "  <thead>\n",
       "    <tr style=\"text-align: right;\">\n",
       "      <th></th>\n",
       "      <th>created_at</th>\n",
       "      <th>edit_history_tweet_ids</th>\n",
       "      <th>id</th>\n",
       "      <th>text</th>\n",
       "      <th>author_id</th>\n",
       "    </tr>\n",
       "  </thead>\n",
       "  <tbody>\n",
       "    <tr>\n",
       "      <th>0</th>\n",
       "      <td>2022-11-20T00:29:04.000Z</td>\n",
       "      <td>[1594125640218746880]</td>\n",
       "      <td>1594125640218746880</td>\n",
       "      <td>When it comes to explaining election outcomes,...</td>\n",
       "      <td>2303751216</td>\n",
       "    </tr>\n",
       "    <tr>\n",
       "      <th>1</th>\n",
       "      <td>2022-11-19T22:42:04.000Z</td>\n",
       "      <td>[1594098711495430145]</td>\n",
       "      <td>1594098711495430145</td>\n",
       "      <td>Congress will have the most Black Republicans ...</td>\n",
       "      <td>2303751216</td>\n",
       "    </tr>\n",
       "    <tr>\n",
       "      <th>2</th>\n",
       "      <td>2022-11-19T20:20:04.000Z</td>\n",
       "      <td>[1594062976012910593]</td>\n",
       "      <td>1594062976012910593</td>\n",
       "      <td>Election denialism lives on, even as candidate...</td>\n",
       "      <td>2303751216</td>\n",
       "    </tr>\n",
       "    <tr>\n",
       "      <th>3</th>\n",
       "      <td>2022-11-19T20:00:07.000Z</td>\n",
       "      <td>[1594057956844535808]</td>\n",
       "      <td>1594057956844535808</td>\n",
       "      <td>Even the weakest group this year is strong by ...</td>\n",
       "      <td>2303751216</td>\n",
       "    </tr>\n",
       "    <tr>\n",
       "      <th>4</th>\n",
       "      <td>2022-11-19T18:42:03.000Z</td>\n",
       "      <td>[1594038311512936449]</td>\n",
       "      <td>1594038311512936449</td>\n",
       "      <td>Our 2022-23 NHL predictions: https://t.co/zI9c...</td>\n",
       "      <td>2303751216</td>\n",
       "    </tr>\n",
       "    <tr>\n",
       "      <th>...</th>\n",
       "      <td>...</td>\n",
       "      <td>...</td>\n",
       "      <td>...</td>\n",
       "      <td>...</td>\n",
       "      <td>...</td>\n",
       "    </tr>\n",
       "    <tr>\n",
       "      <th>95</th>\n",
       "      <td>2022-11-15T01:29:02.000Z</td>\n",
       "      <td>[1592328791904423939]</td>\n",
       "      <td>1592328791904423939</td>\n",
       "      <td>The best NFL receivers, according to ESPN anal...</td>\n",
       "      <td>2303751216</td>\n",
       "    </tr>\n",
       "    <tr>\n",
       "      <th>96</th>\n",
       "      <td>2022-11-15T00:45:06.000Z</td>\n",
       "      <td>[1592317734725074946]</td>\n",
       "      <td>1592317734725074946</td>\n",
       "      <td>The Colts hired Jeff Saturday as head coach. W...</td>\n",
       "      <td>2303751216</td>\n",
       "    </tr>\n",
       "    <tr>\n",
       "      <th>97</th>\n",
       "      <td>2022-11-14T23:43:02.000Z</td>\n",
       "      <td>[1592302114083991553]</td>\n",
       "      <td>1592302114083991553</td>\n",
       "      <td>While many factors have influenced the midterm...</td>\n",
       "      <td>2303751216</td>\n",
       "    </tr>\n",
       "    <tr>\n",
       "      <th>98</th>\n",
       "      <td>2022-11-14T22:45:10.000Z</td>\n",
       "      <td>[1592287550814789634]</td>\n",
       "      <td>1592287550814789634</td>\n",
       "      <td>Our NBA predictions: https://t.co/xhAfM9epHk</td>\n",
       "      <td>2303751216</td>\n",
       "    </tr>\n",
       "    <tr>\n",
       "      <th>99</th>\n",
       "      <td>2022-11-14T22:10:04.000Z</td>\n",
       "      <td>[1592278720747667457]</td>\n",
       "      <td>1592278720747667457</td>\n",
       "      <td>It's clear that the end of Roe v. Wade turned ...</td>\n",
       "      <td>2303751216</td>\n",
       "    </tr>\n",
       "  </tbody>\n",
       "</table>\n",
       "<p>100 rows × 5 columns</p>\n",
       "</div>"
      ],
      "text/plain": [
       "                  created_at edit_history_tweet_ids                   id  \\\n",
       "0   2022-11-20T00:29:04.000Z  [1594125640218746880]  1594125640218746880   \n",
       "1   2022-11-19T22:42:04.000Z  [1594098711495430145]  1594098711495430145   \n",
       "2   2022-11-19T20:20:04.000Z  [1594062976012910593]  1594062976012910593   \n",
       "3   2022-11-19T20:00:07.000Z  [1594057956844535808]  1594057956844535808   \n",
       "4   2022-11-19T18:42:03.000Z  [1594038311512936449]  1594038311512936449   \n",
       "..                       ...                    ...                  ...   \n",
       "95  2022-11-15T01:29:02.000Z  [1592328791904423939]  1592328791904423939   \n",
       "96  2022-11-15T00:45:06.000Z  [1592317734725074946]  1592317734725074946   \n",
       "97  2022-11-14T23:43:02.000Z  [1592302114083991553]  1592302114083991553   \n",
       "98  2022-11-14T22:45:10.000Z  [1592287550814789634]  1592287550814789634   \n",
       "99  2022-11-14T22:10:04.000Z  [1592278720747667457]  1592278720747667457   \n",
       "\n",
       "                                                 text   author_id  \n",
       "0   When it comes to explaining election outcomes,...  2303751216  \n",
       "1   Congress will have the most Black Republicans ...  2303751216  \n",
       "2   Election denialism lives on, even as candidate...  2303751216  \n",
       "3   Even the weakest group this year is strong by ...  2303751216  \n",
       "4   Our 2022-23 NHL predictions: https://t.co/zI9c...  2303751216  \n",
       "..                                                ...         ...  \n",
       "95  The best NFL receivers, according to ESPN anal...  2303751216  \n",
       "96  The Colts hired Jeff Saturday as head coach. W...  2303751216  \n",
       "97  While many factors have influenced the midterm...  2303751216  \n",
       "98       Our NBA predictions: https://t.co/xhAfM9epHk  2303751216  \n",
       "99  It's clear that the end of Roe v. Wade turned ...  2303751216  \n",
       "\n",
       "[100 rows x 5 columns]"
      ]
     },
     "execution_count": 10,
     "metadata": {},
     "output_type": "execute_result"
    }
   ],
   "source": [
    "df"
   ]
  }
 ],
 "metadata": {
  "kernelspec": {
   "display_name": "Python 3.9.13 ('twitter')",
   "language": "python",
   "name": "python3"
  },
  "language_info": {
   "codemirror_mode": {
    "name": "ipython",
    "version": 3
   },
   "file_extension": ".py",
   "mimetype": "text/x-python",
   "name": "python",
   "nbconvert_exporter": "python",
   "pygments_lexer": "ipython3",
   "version": "3.9.13"
  },
  "orig_nbformat": 4,
  "vscode": {
   "interpreter": {
    "hash": "b70013437af88f696eba5f2a08b676450dbd4ee9892660210ab5182cd6ea90d1"
   }
  }
 },
 "nbformat": 4,
 "nbformat_minor": 2
}
